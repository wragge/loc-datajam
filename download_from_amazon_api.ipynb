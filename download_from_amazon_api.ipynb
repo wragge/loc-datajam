{
 "cells": [
  {
   "cell_type": "markdown",
   "id": "9934a74b-4c03-4e1e-9c10-afc80d4fda65",
   "metadata": {},
   "source": [
    "# Download the text files from Amazon using the API"
   ]
  },
  {
   "cell_type": "code",
   "execution_count": 1,
   "id": "9705beff-4aec-4f44-a128-86f294a4e517",
   "metadata": {},
   "outputs": [],
   "source": [
    "import requests\n",
    "from pathlib import Path\n",
    "import ast"
   ]
  },
  {
   "cell_type": "code",
   "execution_count": 94,
   "id": "bc6ee56e-9215-4860-a4bb-c6796809f8b8",
   "metadata": {},
   "outputs": [],
   "source": [
    "r = requests.get(\"https://s3.us-east-1.amazonaws.com/data.labs.loc.gov/digitized-books/README.md\", headers={\"Content-Type\": \"application/json\"})"
   ]
  },
  {
   "cell_type": "code",
   "execution_count": 88,
   "id": "abc9143f-9ea5-4d0d-a674-59103081bfa2",
   "metadata": {},
   "outputs": [
    {
     "data": {
      "text/plain": [
       "{'x-amz-id-2': 'PtiOvZi+FMUwv5gf8Vmctemte6eqp38X5l5SgD/hNQzG6RoV8CkhTsCtIvpkGUD+GIbf8K5TC2E=', 'x-amz-request-id': 'Z87X47Z4M60QGS7J', 'Date': 'Wed, 28 Sep 2022 23:39:01 GMT', 'Last-Modified': 'Wed, 28 Sep 2022 15:00:13 GMT', 'ETag': '\"7fa6a0457fbd5555c9373a9ba9ac2c63\"', 'x-amz-server-side-encryption': 'AES256', 'x-amz-version-id': 'L84OOMy7zJoOq7xFRZNj7oTckKno32Ic', 'Accept-Ranges': 'bytes', 'Content-Type': 'binary/octet-stream', 'Server': 'AmazonS3', 'Content-Length': '10690'}"
      ]
     },
     "execution_count": 88,
     "metadata": {},
     "output_type": "execute_result"
    }
   ],
   "source": [
    "r.headers"
   ]
  },
  {
   "cell_type": "code",
   "execution_count": 97,
   "id": "6f34c2f5-d55d-456e-9179-3f4fb65895ce",
   "metadata": {},
   "outputs": [
    {
     "data": {
      "text/plain": [
       "10685"
      ]
     },
     "execution_count": 97,
     "metadata": {},
     "output_type": "execute_result"
    }
   ],
   "source": [
    "Path('README.md').write_text(r.text)"
   ]
  },
  {
   "cell_type": "code",
   "execution_count": 86,
   "id": "21e1421e-f3ba-4c18-ab7d-58cc1630be1d",
   "metadata": {},
   "outputs": [
    {
     "data": {
      "text/plain": [
       "200"
      ]
     },
     "execution_count": 86,
     "metadata": {},
     "output_type": "execute_result"
    }
   ],
   "source": [
    "r.status_code"
   ]
  },
  {
   "cell_type": "code",
   "execution_count": 99,
   "id": "b115811d-4d0d-402a-88f4-1e1336fb7d24",
   "metadata": {},
   "outputs": [
    {
     "data": {
      "text/plain": [
       "16679095"
      ]
     },
     "execution_count": 99,
     "metadata": {},
     "output_type": "execute_result"
    }
   ],
   "source": [
    "r = requests.get(\"https://s3.us-east-1.amazonaws.com/data.labs.loc.gov/digitized-books/manifest.txt\")\n",
    "Path('manifest.txt').write_text(r.text)"
   ]
  },
  {
   "cell_type": "markdown",
   "id": "c3fabafb-97ec-4ba0-ad8d-ed778b7724f7",
   "metadata": {},
   "source": [
    "The `manifest.txt` file is tab separated, so could open in pandas as a csv. Or just read by line. Columns are id, hash, and bucket/path. It's about 15mb."
   ]
  },
  {
   "cell_type": "code",
   "execution_count": 100,
   "id": "2e608353-244f-4a63-a364-9c5a220f5c18",
   "metadata": {},
   "outputs": [
    {
     "data": {
      "text/plain": [
       "291388362"
      ]
     },
     "execution_count": 100,
     "metadata": {},
     "output_type": "execute_result"
    }
   ],
   "source": [
    "r = requests.get(\"https://s3.us-east-1.amazonaws.com/data.labs.loc.gov/digitized-books/metadata.csv\")\n",
    "Path('metadata.csv').write_text(r.text)"
   ]
  },
  {
   "cell_type": "markdown",
   "id": "0803f653-29e6-4a33-aedd-20707aa7ecd3",
   "metadata": {},
   "source": [
    "The `metadata.csv` file is 270mb. Presumably the JSON is even bigger. I could also work with individual JSON files."
   ]
  },
  {
   "cell_type": "markdown",
   "id": "b882f457-7f34-47bc-b163-ee6589753f37",
   "metadata": {},
   "source": [
    "Let's try downloading all the texts from the `manifest.txt` file.\n",
    "\n",
    "Ok, first problem. Some of the text files seem to have been saved as bytes encoded strings, so just saving them as text results in files with no line breaks and broken characters etc.\n",
    "\n",
    "~~I'm trying this solution: print('c cac \\n\\\\n1 \\\\n\\\\n\\\\n\\\\n^SM \\\\n\\\\n\\\\n\\\\nCCCCCc \\\\n'.encode('utf-8').decode('unicode_escape')) from: https://stackoverflow.com/questions/1885181/how-to-un-escape-a-backslash-escaped-string\n",
    "But there's a warning about non-ASCII characters -- so will this work with non-English language books?~~\n",
    "\n",
    "Trying ast.literal_eval instead: https://stackoverflow.com/a/1885211 this evaluates the string as bytes, then it can be converted back to a string."
   ]
  },
  {
   "cell_type": "code",
   "execution_count": 4,
   "id": "51646d66-9895-481b-a8ed-64b268e27fae",
   "metadata": {},
   "outputs": [
    {
     "name": "stdout",
     "output_type": "stream",
     "text": [
      "83135\n"
     ]
    }
   ],
   "source": [
    "output_path = Path('/media/tim/workingData/loc/')\n",
    "with Path('manifest.txt').open('r') as manifest:\n",
    "    count = 0\n",
    "    for line in manifest:\n",
    "        if '.txt' in line:\n",
    "            count += 1\n",
    "            id, image, path = line.split()\n",
    "            # print(id)\n",
    "            output_file = Path(output_path, f'{id}.txt')\n",
    "            if not output_file.exists():\n",
    "                path = path.replace('s3://', '')\n",
    "                r = requests.get(f\"https://s3.us-east-1.amazonaws.com/{path}\", timeout=60)\n",
    "                r.raise_for_status()\n",
    "                text = r.text\n",
    "                # Handle strings with bytes\n",
    "                if r.text.startswith(\"b'\"):\n",
    "                    try:\n",
    "                        text = ast.literal_eval(r.text).decode()\n",
    "                    except SyntaxError:\n",
    "                        text = r.text.encode('utf-8').decode('unicode_escape')\n",
    "                Path(output_path, f'{id}.txt').write_text(text)\n",
    "print(count)"
   ]
  },
  {
   "cell_type": "markdown",
   "id": "34f45018-65f8-479f-8d22-910cbe03e081",
   "metadata": {},
   "source": [
    "So the number of files with a `.txt` extension matches the number of files I've downloaded. It took about 5 days. Multiple interruptions."
   ]
  },
  {
   "cell_type": "code",
   "execution_count": null,
   "id": "0e33c5f0-c305-450a-8e81-3f49f8e86f29",
   "metadata": {},
   "outputs": [],
   "source": []
  }
 ],
 "metadata": {
  "kernelspec": {
   "display_name": "Python 3 (ipykernel)",
   "language": "python",
   "name": "python3"
  },
  "language_info": {
   "codemirror_mode": {
    "name": "ipython",
    "version": 3
   },
   "file_extension": ".py",
   "mimetype": "text/x-python",
   "name": "python",
   "nbconvert_exporter": "python",
   "pygments_lexer": "ipython3",
   "version": "3.8.12"
  },
  "widgets": {
   "application/vnd.jupyter.widget-state+json": {
    "state": {},
    "version_major": 2,
    "version_minor": 0
   }
  }
 },
 "nbformat": 4,
 "nbformat_minor": 5
}
