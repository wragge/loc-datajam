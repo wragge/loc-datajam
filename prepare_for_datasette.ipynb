{
 "cells": [
  {
   "cell_type": "markdown",
   "id": "fd7bc0c9-bb7c-4e91-97ff-4f1386a7e04f",
   "metadata": {},
   "source": [
    "# Save data to an SQLite database for delivery via Datasette\n",
    "\n",
    "This notebook brings together all the processed data – book metadata, extracted placenames and sentences, and country records from Wikidata. It saves the data to an SQLite database that can be delivered via Datasette."
   ]
  },
  {
   "cell_type": "code",
   "execution_count": 1,
   "id": "a179d0d9-12c9-4169-8d3d-afad9cbe4054",
   "metadata": {},
   "outputs": [],
   "source": [
    "import pandas as pd\n",
    "import re\n",
    "from sqlite_utils import Database"
   ]
  },
  {
   "cell_type": "code",
   "execution_count": 2,
   "id": "c164b6f6-77b1-4f48-ba9e-2902d15cd759",
   "metadata": {},
   "outputs": [],
   "source": [
    "# Load sentences\n",
    "sentences = pd.read_csv(\"sentences.tsv\", sep=\"\\t\", header=None, names=[\"book_id\", \"text\", \"sentence\"], dtype={\"book_id\": str, \"text\": str})"
   ]
  },
  {
   "cell_type": "code",
   "execution_count": 3,
   "id": "cc92281e-5a13-4f0d-ad9c-bef79fe7809d",
   "metadata": {},
   "outputs": [
    {
     "data": {
      "text/html": [
       "<div>\n",
       "<style scoped>\n",
       "    .dataframe tbody tr th:only-of-type {\n",
       "        vertical-align: middle;\n",
       "    }\n",
       "\n",
       "    .dataframe tbody tr th {\n",
       "        vertical-align: top;\n",
       "    }\n",
       "\n",
       "    .dataframe thead th {\n",
       "        text-align: right;\n",
       "    }\n",
       "</style>\n",
       "<table border=\"1\" class=\"dataframe\">\n",
       "  <thead>\n",
       "    <tr style=\"text-align: right;\">\n",
       "      <th></th>\n",
       "      <th>book_id</th>\n",
       "      <th>text</th>\n",
       "      <th>sentence</th>\n",
       "    </tr>\n",
       "  </thead>\n",
       "  <tbody>\n",
       "    <tr>\n",
       "      <th>0</th>\n",
       "      <td>00000003</td>\n",
       "      <td>Scotland</td>\n",
       "      <td>Scotland was the home of Robert Burns and Walt...</td>\n",
       "    </tr>\n",
       "    <tr>\n",
       "      <th>1</th>\n",
       "      <td>00000003</td>\n",
       "      <td>Scotland</td>\n",
       "      <td>England, though less wild and picturesque than...</td>\n",
       "    </tr>\n",
       "    <tr>\n",
       "      <th>2</th>\n",
       "      <td>00000003</td>\n",
       "      <td>Scotland</td>\n",
       "      <td>Scotland is a wilder country than Ireland.</td>\n",
       "    </tr>\n",
       "    <tr>\n",
       "      <th>3</th>\n",
       "      <td>00000003</td>\n",
       "      <td>Scotland</td>\n",
       "      <td>Scotland has moors of yellow broom and hill- s...</td>\n",
       "    </tr>\n",
       "    <tr>\n",
       "      <th>4</th>\n",
       "      <td>00000003</td>\n",
       "      <td>Congo</td>\n",
       "      <td>For Africa the order should be; mountains Рђћ ...</td>\n",
       "    </tr>\n",
       "  </tbody>\n",
       "</table>\n",
       "</div>"
      ],
      "text/plain": [
       "    book_id      text                                           sentence\n",
       "0  00000003  Scotland  Scotland was the home of Robert Burns and Walt...\n",
       "1  00000003  Scotland  England, though less wild and picturesque than...\n",
       "2  00000003  Scotland         Scotland is a wilder country than Ireland.\n",
       "3  00000003  Scotland  Scotland has moors of yellow broom and hill- s...\n",
       "4  00000003     Congo  For Africa the order should be; mountains Рђћ ..."
      ]
     },
     "execution_count": 3,
     "metadata": {},
     "output_type": "execute_result"
    }
   ],
   "source": [
    "sentences.head()"
   ]
  },
  {
   "cell_type": "code",
   "execution_count": 4,
   "id": "e13a31af-2b17-4a5e-9497-793567fa9282",
   "metadata": {},
   "outputs": [],
   "source": [
    "# Some normalising, remove 'the' from the beginning of refs\n",
    "sentences[\"text\"] = sentences[\"text\"].apply(lambda x: re.sub(r\"^the \", \"\", x))"
   ]
  },
  {
   "cell_type": "code",
   "execution_count": 5,
   "id": "c8205782-fab5-4864-bcf2-eae02b90955b",
   "metadata": {},
   "outputs": [
    {
     "data": {
      "text/plain": [
       "(1417801, 3)"
      ]
     },
     "execution_count": 5,
     "metadata": {},
     "output_type": "execute_result"
    }
   ],
   "source": [
    "sentences.shape"
   ]
  },
  {
   "cell_type": "code",
   "execution_count": 6,
   "id": "c42154e8-dba6-46ec-9ddb-6f646d31fd90",
   "metadata": {},
   "outputs": [],
   "source": [
    "# Make surre there's no duplicates\n",
    "sentences.drop_duplicates(subset=[\"book_id\", \"text\", \"sentence\"], inplace=True)"
   ]
  },
  {
   "cell_type": "code",
   "execution_count": 7,
   "id": "9196b1a8-abb5-41cf-adc5-62c32d8c60a8",
   "metadata": {},
   "outputs": [],
   "source": [
    "# remove non-alphanumeric characters from the beginning of the string\n",
    "sentences[\"sentence\"] = sentences[\"sentence\"].apply(lambda x: re.sub(r\"^[^a-zA-Z0-9]*\", \"\", x))"
   ]
  },
  {
   "cell_type": "code",
   "execution_count": 8,
   "id": "5ecaa0ef-86f0-44cf-9122-c2fdccc0230b",
   "metadata": {},
   "outputs": [],
   "source": [
    "# Try to clean up hyphenation\n",
    "sentences[\"sentence\"] = sentences[\"sentence\"].apply(lambda x: re.sub(r\"([a-z])-\\s([a-z])\", r\"\\1\\2\", x))"
   ]
  },
  {
   "cell_type": "code",
   "execution_count": 9,
   "id": "ec0dbfbe-9b88-44f4-808f-2441f3dca190",
   "metadata": {},
   "outputs": [],
   "source": [
    "# remove extra spaces\n",
    "sentences[\"sentence\"] = sentences[\"sentence\"].apply(lambda x: re.sub(r\"\\s+\", r\" \", x))"
   ]
  },
  {
   "cell_type": "markdown",
   "id": "cbe3dad7-6149-46c7-a3b8-8b0d06ba43c8",
   "metadata": {},
   "source": [
    "## Countries"
   ]
  },
  {
   "cell_type": "code",
   "execution_count": 10,
   "id": "0abf2568-6711-4d58-af00-d33ce144a4be",
   "metadata": {},
   "outputs": [],
   "source": [
    "# Load country data\n",
    "countries = pd.read_csv(\"cleaned_countries.csv\")"
   ]
  },
  {
   "cell_type": "code",
   "execution_count": 11,
   "id": "a87cfe56-6287-46f8-b60b-f88853406aa9",
   "metadata": {},
   "outputs": [
    {
     "data": {
      "text/html": [
       "<div>\n",
       "<style scoped>\n",
       "    .dataframe tbody tr th:only-of-type {\n",
       "        vertical-align: middle;\n",
       "    }\n",
       "\n",
       "    .dataframe tbody tr th {\n",
       "        vertical-align: top;\n",
       "    }\n",
       "\n",
       "    .dataframe thead th {\n",
       "        text-align: right;\n",
       "    }\n",
       "</style>\n",
       "<table border=\"1\" class=\"dataframe\">\n",
       "  <thead>\n",
       "    <tr style=\"text-align: right;\">\n",
       "      <th></th>\n",
       "      <th>id</th>\n",
       "      <th>text</th>\n",
       "      <th>country</th>\n",
       "      <th>startDate</th>\n",
       "      <th>endDate</th>\n",
       "      <th>countryLabel</th>\n",
       "      <th>countryTypeLabel</th>\n",
       "      <th>lat</th>\n",
       "      <th>lon</th>\n",
       "    </tr>\n",
       "  </thead>\n",
       "  <tbody>\n",
       "    <tr>\n",
       "      <th>0</th>\n",
       "      <td>Q408</td>\n",
       "      <td>AUS</td>\n",
       "      <td>http://www.wikidata.org/entity/Q408</td>\n",
       "      <td>1901-01-01T00:00:00Z</td>\n",
       "      <td>NaN</td>\n",
       "      <td>Australia</td>\n",
       "      <td>country</td>\n",
       "      <td>-28.00</td>\n",
       "      <td>137.000000</td>\n",
       "    </tr>\n",
       "    <tr>\n",
       "      <th>1</th>\n",
       "      <td>Q207521</td>\n",
       "      <td>Abyssinia</td>\n",
       "      <td>http://www.wikidata.org/entity/Q207521</td>\n",
       "      <td>NaN</td>\n",
       "      <td>1974-01-01T00:00:00Z</td>\n",
       "      <td>Ethiopian Empire</td>\n",
       "      <td>historical country</td>\n",
       "      <td>12.60</td>\n",
       "      <td>37.466667</td>\n",
       "    </tr>\n",
       "    <tr>\n",
       "      <th>2</th>\n",
       "      <td>Q4461035</td>\n",
       "      <td>Accad</td>\n",
       "      <td>http://www.wikidata.org/entity/Q4461035</td>\n",
       "      <td>-2333-01-01T00:00:00Z</td>\n",
       "      <td>-2153-01-01T00:00:00Z</td>\n",
       "      <td>Akkadian empire</td>\n",
       "      <td>historical country</td>\n",
       "      <td>33.10</td>\n",
       "      <td>44.100000</td>\n",
       "    </tr>\n",
       "    <tr>\n",
       "      <th>3</th>\n",
       "      <td>Q775550</td>\n",
       "      <td>Adamawa</td>\n",
       "      <td>http://www.wikidata.org/entity/Q775550</td>\n",
       "      <td>1809-01-01T00:00:00Z</td>\n",
       "      <td>1903-07-29T00:00:00Z</td>\n",
       "      <td>Adamawa Emirate</td>\n",
       "      <td>historical country</td>\n",
       "      <td>9.15</td>\n",
       "      <td>10.000000</td>\n",
       "    </tr>\n",
       "    <tr>\n",
       "      <th>4</th>\n",
       "      <td>Q889</td>\n",
       "      <td>Afghanistan</td>\n",
       "      <td>http://www.wikidata.org/entity/Q889</td>\n",
       "      <td>1709-01-01T00:00:00Z</td>\n",
       "      <td>NaN</td>\n",
       "      <td>Afghanistan</td>\n",
       "      <td>country</td>\n",
       "      <td>33.00</td>\n",
       "      <td>66.000000</td>\n",
       "    </tr>\n",
       "  </tbody>\n",
       "</table>\n",
       "</div>"
      ],
      "text/plain": [
       "         id         text                                  country  \\\n",
       "0      Q408          AUS      http://www.wikidata.org/entity/Q408   \n",
       "1   Q207521    Abyssinia   http://www.wikidata.org/entity/Q207521   \n",
       "2  Q4461035        Accad  http://www.wikidata.org/entity/Q4461035   \n",
       "3   Q775550      Adamawa   http://www.wikidata.org/entity/Q775550   \n",
       "4      Q889  Afghanistan      http://www.wikidata.org/entity/Q889   \n",
       "\n",
       "               startDate                endDate      countryLabel  \\\n",
       "0   1901-01-01T00:00:00Z                    NaN         Australia   \n",
       "1                    NaN   1974-01-01T00:00:00Z  Ethiopian Empire   \n",
       "2  -2333-01-01T00:00:00Z  -2153-01-01T00:00:00Z   Akkadian empire   \n",
       "3   1809-01-01T00:00:00Z   1903-07-29T00:00:00Z   Adamawa Emirate   \n",
       "4   1709-01-01T00:00:00Z                    NaN       Afghanistan   \n",
       "\n",
       "     countryTypeLabel    lat         lon  \n",
       "0             country -28.00  137.000000  \n",
       "1  historical country  12.60   37.466667  \n",
       "2  historical country  33.10   44.100000  \n",
       "3  historical country   9.15   10.000000  \n",
       "4             country  33.00   66.000000  "
      ]
     },
     "execution_count": 11,
     "metadata": {},
     "output_type": "execute_result"
    }
   ],
   "source": [
    "# Add an id column from the Wikidata url\n",
    "countries.insert(0, \"id\", countries[\"country\"].str.extract(r\"\\/(Q\\d+)\"))\n",
    "countries.head()"
   ]
  },
  {
   "cell_type": "code",
   "execution_count": 12,
   "id": "b1c44ff6-7584-4cd7-8d47-bd93c750b8f5",
   "metadata": {},
   "outputs": [],
   "source": [
    "country_ids = countries.copy()[[\"id\", \"text\"]]\n",
    "\n",
    "# Add country ids to sentences\n",
    "sentences_with_country_ids = pd.merge(sentences, country_ids, how=\"left\", left_on=\"text\", right_on=\"text\")"
   ]
  },
  {
   "cell_type": "code",
   "execution_count": 13,
   "id": "41866dd4-18e1-4599-89a0-b9c3f6839294",
   "metadata": {},
   "outputs": [],
   "source": [
    "sentences_with_country_ids.columns = [\"book_id\", \"country\", \"sentence\", \"country_id\"]"
   ]
  },
  {
   "cell_type": "code",
   "execution_count": 14,
   "id": "e7aa0dd0-3251-463b-8712-08d660479f61",
   "metadata": {},
   "outputs": [],
   "source": [
    "# Get a list of countries that are mentioned in sentences\n",
    "# Because we filtered sentences by various patterns, not all countries will now be included\n",
    "ids_in_use = list(sentences_with_country_ids[\"country_id\"].unique())"
   ]
  },
  {
   "cell_type": "code",
   "execution_count": 15,
   "id": "b790d3bc-89a5-4395-9051-3479861e53cc",
   "metadata": {},
   "outputs": [],
   "source": [
    "# Dedupe and reorganise countries\n",
    "countries_deduped = countries.loc[countries[\"id\"].isin(ids_in_use)][[\"id\", \"countryLabel\", \"country\", \"startDate\", \"endDate\", \"countryTypeLabel\", \"lat\", \"lon\"]]\n",
    "countries_deduped.drop_duplicates(subset=[\"id\"], inplace=True)\n",
    "\n",
    "countries_deduped.columns = [\"id\", \"title\", \"url\", \"start_date\", \"end_date\", \"country_type\", \"lat\", \"lon\"]"
   ]
  },
  {
   "cell_type": "code",
   "execution_count": 16,
   "id": "a26aa865-1e99-4320-a795-92e8e0e4fd2f",
   "metadata": {},
   "outputs": [
    {
     "data": {
      "text/html": [
       "<div>\n",
       "<style scoped>\n",
       "    .dataframe tbody tr th:only-of-type {\n",
       "        vertical-align: middle;\n",
       "    }\n",
       "\n",
       "    .dataframe tbody tr th {\n",
       "        vertical-align: top;\n",
       "    }\n",
       "\n",
       "    .dataframe thead th {\n",
       "        text-align: right;\n",
       "    }\n",
       "</style>\n",
       "<table border=\"1\" class=\"dataframe\">\n",
       "  <thead>\n",
       "    <tr style=\"text-align: right;\">\n",
       "      <th></th>\n",
       "      <th>id</th>\n",
       "      <th>url</th>\n",
       "      <th>title</th>\n",
       "      <th>contributors</th>\n",
       "      <th>details</th>\n",
       "      <th>date</th>\n",
       "      <th>image_url</th>\n",
       "    </tr>\n",
       "  </thead>\n",
       "  <tbody>\n",
       "    <tr>\n",
       "      <th>0</th>\n",
       "      <td>ltf90003732</td>\n",
       "      <td>http://www.loc.gov/item/ltf90003732/</td>\n",
       "      <td>Art, society, and accomplishments at home and ...</td>\n",
       "      <td>Blackburn, R. Barry. [from old catalog]</td>\n",
       "      <td>Chicago, W. B. Conkey Co., 1895.</td>\n",
       "      <td>1895</td>\n",
       "      <td>https://tile.loc.gov/image-services/iiif/publi...</td>\n",
       "    </tr>\n",
       "    <tr>\n",
       "      <th>1</th>\n",
       "      <td>ltf90025186</td>\n",
       "      <td>http://www.loc.gov/item/ltf90025186/</td>\n",
       "      <td>How to win; or, Sure secrets of success. Menta...</td>\n",
       "      <td>Anderson, L. H. (Lewis H.)</td>\n",
       "      <td>Chicago, National Hygienic Institute, 1893.</td>\n",
       "      <td>1893</td>\n",
       "      <td>https://tile.loc.gov/image-services/iiif/publi...</td>\n",
       "    </tr>\n",
       "    <tr>\n",
       "      <th>2</th>\n",
       "      <td>ltf90017756</td>\n",
       "      <td>http://www.loc.gov/item/ltf90017756/</td>\n",
       "      <td>The purpose of God.</td>\n",
       "      <td>Dodge, Joseph Smith. [from old catalog]</td>\n",
       "      <td>Boston : Universalist Pub. House, 1894.</td>\n",
       "      <td>1894</td>\n",
       "      <td>https://tile.loc.gov/image-services/iiif/publi...</td>\n",
       "    </tr>\n",
       "    <tr>\n",
       "      <th>3</th>\n",
       "      <td>ltf90007547</td>\n",
       "      <td>http://www.loc.gov/item/ltf90007547/</td>\n",
       "      <td>La ruine du Talmud; eÌpitre adresseÌe au gra...</td>\n",
       "      <td>Bettelheim, Bernard Jean, 1811-1869.</td>\n",
       "      <td>Smyrne, Impr. d'A. Damiano, 1840.</td>\n",
       "      <td>1840</td>\n",
       "      <td>https://tile.loc.gov/image-services/iiif/servi...</td>\n",
       "    </tr>\n",
       "    <tr>\n",
       "      <th>4</th>\n",
       "      <td>ltf90010477</td>\n",
       "      <td>http://www.loc.gov/item/ltf90010477/</td>\n",
       "      <td>Der Islam in neunzehnten Jahrhundert; eine cul...</td>\n",
       "      <td>VÃ¡mbÃ©ry, Ãrmin, 1832-1913.</td>\n",
       "      <td>Leipzig, F.A. Brockhaus, 1875.</td>\n",
       "      <td>1875</td>\n",
       "      <td>https://tile.loc.gov/image-services/iiif/publi...</td>\n",
       "    </tr>\n",
       "  </tbody>\n",
       "</table>\n",
       "</div>"
      ],
      "text/plain": [
       "            id                                   url  \\\n",
       "0  ltf90003732  http://www.loc.gov/item/ltf90003732/   \n",
       "1  ltf90025186  http://www.loc.gov/item/ltf90025186/   \n",
       "2  ltf90017756  http://www.loc.gov/item/ltf90017756/   \n",
       "3  ltf90007547  http://www.loc.gov/item/ltf90007547/   \n",
       "4  ltf90010477  http://www.loc.gov/item/ltf90010477/   \n",
       "\n",
       "                                               title  \\\n",
       "0  Art, society, and accomplishments at home and ...   \n",
       "1  How to win; or, Sure secrets of success. Menta...   \n",
       "2                                The purpose of God.   \n",
       "3  La ruine du Talmud; eÌpitre adresseÌe au gra...   \n",
       "4  Der Islam in neunzehnten Jahrhundert; eine cul...   \n",
       "\n",
       "                              contributors  \\\n",
       "0  Blackburn, R. Barry. [from old catalog]   \n",
       "1               Anderson, L. H. (Lewis H.)   \n",
       "2  Dodge, Joseph Smith. [from old catalog]   \n",
       "3     Bettelheim, Bernard Jean, 1811-1869.   \n",
       "4            VÃ¡mbÃ©ry, Ãrmin, 1832-1913.   \n",
       "\n",
       "                                       details  date  \\\n",
       "0             Chicago, W. B. Conkey Co., 1895.  1895   \n",
       "1  Chicago, National Hygienic Institute, 1893.  1893   \n",
       "2      Boston : Universalist Pub. House, 1894.  1894   \n",
       "3            Smyrne, Impr. d'A. Damiano, 1840.  1840   \n",
       "4               Leipzig, F.A. Brockhaus, 1875.  1875   \n",
       "\n",
       "                                           image_url  \n",
       "0  https://tile.loc.gov/image-services/iiif/publi...  \n",
       "1  https://tile.loc.gov/image-services/iiif/publi...  \n",
       "2  https://tile.loc.gov/image-services/iiif/publi...  \n",
       "3  https://tile.loc.gov/image-services/iiif/servi...  \n",
       "4  https://tile.loc.gov/image-services/iiif/publi...  "
      ]
     },
     "execution_count": 16,
     "metadata": {},
     "output_type": "execute_result"
    }
   ],
   "source": [
    "# get the book metadata\n",
    "metadata = pd.read_csv(\"cleaned_meta.csv\", dtype={\"id\": str, \"text\": str})\n",
    "metadata.head()"
   ]
  },
  {
   "cell_type": "code",
   "execution_count": 17,
   "id": "970862af-9f3f-4d85-bc11-cb07a4448117",
   "metadata": {},
   "outputs": [],
   "source": [
    "# Create an SQLite db\n",
    "db = Database(\"datasette/loc-books.db\", recreate=True)"
   ]
  },
  {
   "cell_type": "code",
   "execution_count": 18,
   "id": "3296e18e-18b9-4270-8139-df5ca84795fe",
   "metadata": {},
   "outputs": [
    {
     "data": {
      "text/plain": [
       "<Table books (id, url, title, contributors, details, date, image_url)>"
      ]
     },
     "execution_count": 18,
     "metadata": {},
     "output_type": "execute_result"
    }
   ],
   "source": [
    "# Add the metadata\n",
    "db[\"books\"].insert_all(metadata.to_dict(orient=\"records\"), pk=\"id\")"
   ]
  },
  {
   "cell_type": "code",
   "execution_count": 19,
   "id": "b72c1a80-1fbf-4118-8663-e9eb7e85effc",
   "metadata": {},
   "outputs": [
    {
     "data": {
      "text/plain": [
       "<Table countries (id, title, url, start_date, end_date, country_type, lat, lon)>"
      ]
     },
     "execution_count": 19,
     "metadata": {},
     "output_type": "execute_result"
    }
   ],
   "source": [
    "# Add countries\n",
    "db[\"countries\"].insert_all(countries_deduped.to_dict(orient=\"records\"), pk=\"id\")"
   ]
  },
  {
   "cell_type": "code",
   "execution_count": 20,
   "id": "9f9f00e7-6373-469d-a227-64111416e904",
   "metadata": {},
   "outputs": [
    {
     "data": {
      "text/plain": [
       "<Table sentences (book_id, country, sentence, country_id)>"
      ]
     },
     "execution_count": 20,
     "metadata": {},
     "output_type": "execute_result"
    }
   ],
   "source": [
    "# Add sentences\n",
    "db[\"sentences\"].insert_all(sentences_with_country_ids.to_dict(orient=\"records\"), foreign_keys=[(\"book_id\", \"books\", \"id\"), (\"country_id\", \"countries\", \"id\")])"
   ]
  },
  {
   "cell_type": "code",
   "execution_count": 21,
   "id": "402fe703-bc14-4fd0-b549-8f57ec19a853",
   "metadata": {},
   "outputs": [
    {
     "data": {
      "text/plain": [
       "<Table sentences (book_id, country, sentence, country_id)>"
      ]
     },
     "execution_count": 21,
     "metadata": {},
     "output_type": "execute_result"
    }
   ],
   "source": [
    "# Add full text index on text fields\n",
    "db[\"books\"].enable_fts([\"title\"])\n",
    "db[\"countries\"].enable_fts([\"title\"])\n",
    "db[\"sentences\"].enable_fts([\"sentence\"])"
   ]
  },
  {
   "cell_type": "code",
   "execution_count": null,
   "id": "407503f4-1fb0-4a91-8363-18aafe7d84e8",
   "metadata": {},
   "outputs": [],
   "source": []
  }
 ],
 "metadata": {
  "kernelspec": {
   "display_name": "Python 3 (ipykernel)",
   "language": "python",
   "name": "python3"
  },
  "language_info": {
   "codemirror_mode": {
    "name": "ipython",
    "version": 3
   },
   "file_extension": ".py",
   "mimetype": "text/x-python",
   "name": "python",
   "nbconvert_exporter": "python",
   "pygments_lexer": "ipython3",
   "version": "3.8.12"
  },
  "widgets": {
   "application/vnd.jupyter.widget-state+json": {
    "state": {},
    "version_major": 2,
    "version_minor": 0
   }
  }
 },
 "nbformat": 4,
 "nbformat_minor": 5
}
